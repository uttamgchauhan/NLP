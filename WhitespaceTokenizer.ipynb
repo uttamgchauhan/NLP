{
  "nbformat": 4,
  "nbformat_minor": 0,
  "metadata": {
    "colab": {
      "provenance": [],
      "authorship_tag": "ABX9TyMokd3XkALF4DlcCBHrx4rP"
    },
    "kernelspec": {
      "name": "python3",
      "display_name": "Python 3"
    },
    "language_info": {
      "name": "python"
    }
  },
  "cells": [
    {
      "cell_type": "code",
      "execution_count": null,
      "metadata": {
        "colab": {
          "base_uri": "https://localhost:8080/"
        },
        "id": "_Jd0-yNxLc0_",
        "outputId": "b22bd0b1-228f-4095-f81b-b74a4d0b62b5"
      },
      "outputs": [
        {
          "output_type": "stream",
          "name": "stdout",
          "text": [
            "['This', 'is', 'a', 'sample', 'sentence.', 'It', 'contains', 'punctuation,', 'numbers', '(123),', 'and', 'various', 'words.']\n"
          ]
        }
      ],
      "source": [
        "import nltk\n",
        "from nltk.tokenize import WhitespaceTokenizer\n",
        "\n",
        "# Initialize the WhitespaceTokenizer\n",
        "tokenizer = WhitespaceTokenizer()\n",
        "\n",
        "# Define the input text to be tokenized\n",
        "input_text = \"This is a sample sentence. It contains punctuation, numbers (123), and various words.\"\n",
        "\n",
        "# Use the tokenize method to generate a list of tokens\n",
        "tokens = tokenizer.tokenize(input_text)\n",
        "\n",
        "# Print the list of tokens\n",
        "print(tokens)"
      ]
    },
    {
      "cell_type": "code",
      "source": [
        "import nltk\n",
        "nltk.download('punkt')\n",
        "from nltk.tokenize import word_tokenize"
      ],
      "metadata": {
        "colab": {
          "base_uri": "https://localhost:8080/"
        },
        "id": "wjA5Zd5NLpAH",
        "outputId": "0a11b9d4-d39a-47e6-c6c3-01fda54af609"
      },
      "execution_count": null,
      "outputs": [
        {
          "output_type": "stream",
          "name": "stderr",
          "text": [
            "[nltk_data] Downloading package punkt to /root/nltk_data...\n",
            "[nltk_data]   Package punkt is already up-to-date!\n"
          ]
        }
      ]
    },
    {
      "cell_type": "code",
      "source": [
        "# Text to tokenize\n",
        "text = \"This is a sample sentence. Tokenize it using the StandardTokenizer.\"\n",
        "\n",
        "# Tokenize the text using NLTK's word_tokenize function\n",
        "tokens = word_tokenize(text)\n",
        "\n",
        "# Print the tokens\n",
        "print(tokens)"
      ],
      "metadata": {
        "colab": {
          "base_uri": "https://localhost:8080/"
        },
        "id": "dxWYA2NdL33G",
        "outputId": "4a89f21f-87e4-43d1-8e37-05a37599f6af"
      },
      "execution_count": null,
      "outputs": [
        {
          "output_type": "stream",
          "name": "stdout",
          "text": [
            "['This', 'is', 'a', 'sample', 'sentence', '.', 'Tokenize', 'it', 'using', 'the', 'StandardTokenizer', '.']\n"
          ]
        }
      ]
    }
  ]
}