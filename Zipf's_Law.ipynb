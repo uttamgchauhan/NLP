{
  "nbformat": 4,
  "nbformat_minor": 0,
  "metadata": {
    "colab": {
      "provenance": []
    },
    "kernelspec": {
      "name": "python3",
      "display_name": "Python 3"
    },
    "language_info": {
      "name": "python"
    }
  },
  "cells": [
    {
      "cell_type": "code",
      "execution_count": null,
      "metadata": {
        "id": "QKL47BgihxHx"
      },
      "outputs": [],
      "source": [
        "import nltk\n",
        "from nltk.probability import FreqDist\n",
        "import matplotlib.pyplot as plt"
      ]
    },
    {
      "cell_type": "code",
      "source": [
        "corpus = ['Natural Language Processing with NLTK',\n",
        "             'Natural Language gets developed over the time',\n",
        "             'Language Processing is very important',\n",
        "             'Natural Language Processing is an important scientific field',\n",
        "             'Natural Language Analysis',\n",
        "             'Natural Language Processing',\n",
        "             'Natural Language Understanding',\n",
        "             'Natural Language Understanding']"
      ],
      "metadata": {
        "id": "YvaG0C_9Fx3z"
      },
      "execution_count": null,
      "outputs": []
    },
    {
      "cell_type": "code",
      "source": [
        "# The corpus under study is large generally. Hence, we use\n",
        "# Download the \"punkt\" resource\n",
        "nltk.download('punkt')"
      ],
      "metadata": {
        "colab": {
          "base_uri": "https://localhost:8080/"
        },
        "id": "9XTjIZfUkFQy",
        "outputId": "c3202855-6229-4a4a-a94b-0413d9e7c168"
      },
      "execution_count": null,
      "outputs": [
        {
          "output_type": "stream",
          "name": "stderr",
          "text": [
            "[nltk_data] Downloading package punkt to /root/nltk_data...\n",
            "[nltk_data]   Package punkt is already up-to-date!\n"
          ]
        },
        {
          "output_type": "execute_result",
          "data": {
            "text/plain": [
              "True"
            ]
          },
          "metadata": {},
          "execution_count": 36
        }
      ]
    },
    {
      "cell_type": "code",
      "source": [
        "flat_corpus=[]\n",
        "for sent in corpus:\n",
        "    flat_corpus.extend(nltk.word_tokenize(sent))\n",
        "print(flat_corpus)"
      ],
      "metadata": {
        "colab": {
          "base_uri": "https://localhost:8080/"
        },
        "id": "JVI7MDIaF6PT",
        "outputId": "180dc32e-2d48-45da-c199-db07122f428b"
      },
      "execution_count": null,
      "outputs": [
        {
          "output_type": "stream",
          "name": "stdout",
          "text": [
            "['Natural', 'Language', 'Processing', 'with', 'NLTK', 'Natural', 'Language', 'gets', 'developed', 'over', 'the', 'time', 'Language', 'Processing', 'is', 'very', 'important', 'Natural', 'Language', 'Processing', 'is', 'an', 'important', 'scientific', 'field', 'Natural', 'Language', 'Analysis', 'Natural', 'Language', 'Processing', 'Natural', 'Language', 'Understanding', 'Natural', 'Language', 'Understanding']\n"
          ]
        }
      ]
    },
    {
      "cell_type": "code",
      "source": [
        "# Compute the frequency distribution of words in the corpus\n",
        "fdist = FreqDist(flat_corpus)"
      ],
      "metadata": {
        "id": "EBL_p7g6iNcQ"
      },
      "execution_count": null,
      "outputs": []
    },
    {
      "cell_type": "code",
      "source": [
        "# Compute the ranks and frequencies of the words\n",
        "ranks = list(range(1, len(sorted_words) + 1))\n",
        "frequencies = [fdist[word] for word in sorted_words]"
      ],
      "metadata": {
        "id": "-SiXISr1iWpT"
      },
      "execution_count": null,
      "outputs": []
    },
    {
      "cell_type": "code",
      "source": [
        "# Print words, frequencies, and ranks in a formatted table\n",
        "print(\"{:<12s}{:<12s}{:<6s}\".format(\"Word\", \"Frequency\", \"Rank\"))\n",
        "print(\"---------------------------------\")\n",
        "for rank, word in enumerate(sorted_words, 1):\n",
        "    frequency = fdist[word]\n",
        "    print(\"{:<16s}{:<12d}{:<6d}\".format(word, frequency, rank))"
      ],
      "metadata": {
        "colab": {
          "base_uri": "https://localhost:8080/"
        },
        "id": "KX7tzdDJj-fn",
        "outputId": "50311d5e-42cb-4a18-ea92-9147481e6f21"
      },
      "execution_count": null,
      "outputs": [
        {
          "output_type": "stream",
          "name": "stdout",
          "text": [
            "Word        Frequency   Rank  \n",
            "---------------------------------\n",
            "Language        8           1     \n",
            "Natural         7           2     \n",
            "Processing      4           3     \n",
            "is              2           4     \n",
            "important       2           5     \n",
            "Understanding   2           6     \n",
            "with            1           7     \n",
            "NLTK            1           8     \n",
            "gets            1           9     \n",
            "developed       1           10    \n",
            "over            1           11    \n",
            "the             1           12    \n",
            "time            1           13    \n",
            "very            1           14    \n",
            "an              1           15    \n",
            "scientific      1           16    \n",
            "field           1           17    \n",
            "Analysis        1           18    \n"
          ]
        }
      ]
    },
    {
      "cell_type": "code",
      "source": [
        "# Plot the ranks vs. frequencies on a log-log scale\n",
        "plt.loglog(ranks, frequencies, marker='.')\n",
        "plt.xlabel('Rank')\n",
        "plt.ylabel('Frequency')\n",
        "plt.title(\"Zipf's Law Test\")\n",
        "plt.grid(True)\n",
        "plt.show()"
      ],
      "metadata": {
        "colab": {
          "base_uri": "https://localhost:8080/",
          "height": 476
        },
        "id": "owQvCHI8id6t",
        "outputId": "04056b87-26ae-4c2f-c4dd-1a1f2cd3b905"
      },
      "execution_count": null,
      "outputs": [
        {
          "output_type": "display_data",
          "data": {
            "text/plain": [
              "<Figure size 640x480 with 1 Axes>"
            ],
            "image/png": "[encoded data removed]"
          },
          "metadata": {}
        }
      ]
    },
    {
      "cell_type": "code",
      "source": [
        "from google.colab import drive\n",
        "\n",
        "# Mount Google Drive\n",
        "drive.mount('/content/drive')\n",
        "\n",
        "# Specify the file path within Google Drive\n",
        "file_path = '/content/drive/MyDrive/FundamentalsNLP/lmcorpus.txt'\n",
        "\n",
        "# Read the file\n",
        "with open(file_path, 'r') as file:\n",
        "    corpus = file.read()"
      ],
      "metadata": {
        "id": "0_7UVgCn3md0",
        "colab": {
          "base_uri": "https://localhost:8080/"
        },
        "outputId": "593d0477-cd98-4ba3-ee42-56ad8ed44560"
      },
      "execution_count": null,
      "outputs": [
        {
          "output_type": "stream",
          "name": "stdout",
          "text": [
            "Drive already mounted at /content/drive; to attempt to forcibly remount, call drive.mount(\"/content/drive\", force_remount=True).\n"
          ]
        }
      ]
    },
    {
      "cell_type": "code",
      "source": [
        "# Load the Reuters corpus\n",
        "nltk.download('reuters')\n",
        "corpus = nltk.corpus.reuters.sents()"
      ],
      "metadata": {
        "id": "4S9KvthJoBgf",
        "colab": {
          "base_uri": "https://localhost:8080/"
        },
        "outputId": "f1f633f2-386a-4d73-b25a-2bd8e938d22c"
      },
      "execution_count": null,
      "outputs": [
        {
          "output_type": "stream",
          "name": "stderr",
          "text": [
            "[nltk_data] Downloading package reuters to /root/nltk_data...\n",
            "[nltk_data]   Package reuters is already up-to-date!\n"
          ]
        }
      ]
    },
    {
      "cell_type": "code",
      "source": [
        "# Read the file from the Colab runtime\n",
        "file_path = '/content/lmcorpus.txt'  # Replace with the actual file path\n",
        "\n",
        "with open(file_path, 'r') as file:\n",
        "    corpus = file.read()"
      ],
      "metadata": {
        "id": "ywt1MAk31CzF",
        "colab": {
          "base_uri": "https://localhost:8080/",
          "height": 217
        },
        "outputId": "e456ab29-da9d-454f-cc3e-7e93196ea3b7"
      },
      "execution_count": null,
      "outputs": [
        {
          "output_type": "error",
          "ename": "FileNotFoundError",
          "evalue": "ignored",
          "traceback": [
            "\u001b[0;31m---------------------------------------------------------------------------\u001b[0m",
            "\u001b[0;31mFileNotFoundError\u001b[0m                         Traceback (most recent call last)",
            "\u001b[0;32m<ipython-input-7-09d0e4b3a799>\u001b[0m in \u001b[0;36m<cell line: 4>\u001b[0;34m()\u001b[0m\n\u001b[1;32m      2\u001b[0m \u001b[0mfile_path\u001b[0m \u001b[0;34m=\u001b[0m \u001b[0;34m'/content/lmcorpus.txt'\u001b[0m  \u001b[0;31m# Replace with the actual file path\u001b[0m\u001b[0;34m\u001b[0m\u001b[0;34m\u001b[0m\u001b[0m\n\u001b[1;32m      3\u001b[0m \u001b[0;34m\u001b[0m\u001b[0m\n\u001b[0;32m----> 4\u001b[0;31m \u001b[0;32mwith\u001b[0m \u001b[0mopen\u001b[0m\u001b[0;34m(\u001b[0m\u001b[0mfile_path\u001b[0m\u001b[0;34m,\u001b[0m \u001b[0;34m'r'\u001b[0m\u001b[0;34m)\u001b[0m \u001b[0;32mas\u001b[0m \u001b[0mfile\u001b[0m\u001b[0;34m:\u001b[0m\u001b[0;34m\u001b[0m\u001b[0;34m\u001b[0m\u001b[0m\n\u001b[0m\u001b[1;32m      5\u001b[0m     \u001b[0mcorpus\u001b[0m \u001b[0;34m=\u001b[0m \u001b[0mfile\u001b[0m\u001b[0;34m.\u001b[0m\u001b[0mread\u001b[0m\u001b[0;34m(\u001b[0m\u001b[0;34m)\u001b[0m\u001b[0;34m\u001b[0m\u001b[0;34m\u001b[0m\u001b[0m\n",
            "\u001b[0;31mFileNotFoundError\u001b[0m: [Errno 2] No such file or directory: '/content/lmcorpus.txt'"
          ]
        }
      ]
    }
  ]
}