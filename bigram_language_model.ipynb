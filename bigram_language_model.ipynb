{
  "nbformat": 4,
  "nbformat_minor": 0,
  "metadata": {
    "colab": {
      "provenance": [],
      "authorship_tag": "ABX9TyN0i/8Kfvr3OxMuWNaHLy2C",
      "include_colab_link": true
    },
    "kernelspec": {
      "name": "python3",
      "display_name": "Python 3"
    },
    "language_info": {
      "name": "python"
    }
  },
  "cells": [
    {
      "cell_type": "markdown",
      "metadata": {
        "id": "view-in-github",
        "colab_type": "text"
      },
      "source": [
        "<a href=\"https://colab.research.google.com/github/uttamgchauhan/NLP/blob/main/bigram_language_model.ipynb\" target=\"_parent\"><img src=\"https://colab.research.google.com/assets/colab-badge.svg\" alt=\"Open In Colab\"/></a>"
      ]
    },
    {
      "cell_type": "code",
      "execution_count": null,
      "metadata": {
        "id": "gbMjQr1N-Z0M"
      },
      "outputs": [],
      "source": [
        "import math\n",
        "from collections import defaultdict\n",
        "from nltk import ngrams\n",
        "from nltk.tokenize import word_tokenize\n",
        "import nltk"
      ]
    },
    {
      "cell_type": "code",
      "source": [
        "nltk.download('punkt')"
      ],
      "metadata": {
        "colab": {
          "base_uri": "https://localhost:8080/"
        },
        "id": "PDdFk3_0-4F8",
        "outputId": "fc58cea9-b99d-45ec-9d42-3d8ce290162c"
      },
      "execution_count": null,
      "outputs": [
        {
          "output_type": "stream",
          "name": "stderr",
          "text": [
            "[nltk_data] Downloading package punkt to /root/nltk_data...\n",
            "[nltk_data]   Unzipping tokenizers/punkt.zip.\n"
          ]
        },
        {
          "output_type": "execute_result",
          "data": {
            "text/plain": [
              "True"
            ]
          },
          "metadata": {},
          "execution_count": 2
        }
      ]
    },
    {
      "cell_type": "code",
      "source": [
        "# Function to build a bigram language model with Add-One (Laplace) smoothing\n",
        "def build_bigram_language_model(corpus):\n",
        "    \"\"\"\n",
        "    Builds a bigram language model with Add-One (Laplace) smoothing using the given corpus.\n",
        "\n",
        "    Args:\n",
        "        corpus (str): The input corpus.\n",
        "\n",
        "    Returns:\n",
        "        dict: A nested dictionary representing the bigram language model.\n",
        "              The keys are previous words, and the values are dictionaries\n",
        "              containing the possible next words and their probabilities.\n",
        "    \"\"\"\n",
        "    language_model = defaultdict(lambda: defaultdict(int))\n",
        "    tokens = word_tokenize(corpus)\n",
        "    bigram_tokens = list(ngrams(tokens, 2, pad_left=True, pad_right=True))\n",
        "    vocabulary = set(tokens)\n",
        "\n",
        "    for prev_word, word in bigram_tokens:\n",
        "        language_model[prev_word][word] += 1\n",
        "\n",
        "    # Apply Add-One (Laplace) smoothing\n",
        "    vocabulary_size = len(vocabulary)\n",
        "    for prev_word in language_model:\n",
        "        total_count = sum(language_model[prev_word].values())\n",
        "        for word in vocabulary:\n",
        "            language_model[prev_word][word] = (language_model[prev_word][word] + 1) / (total_count + vocabulary_size)\n",
        "\n",
        "    return language_model"
      ],
      "metadata": {
        "id": "n-msu2rt-h_l"
      },
      "execution_count": null,
      "outputs": []
    },
    {
      "cell_type": "code",
      "source": [
        "# Function to calculate perplexity for bigram language model\n",
        "def calculate_bigram_perplexity(language_model, test_corpus):\n",
        "    tokens = word_tokenize(test_corpus)\n",
        "    bigram_tokens = list(ngrams(tokens, 2, pad_left=True, pad_right=True))\n",
        "    num_words = len(tokens)\n",
        "    log_sum = 0.0\n",
        "\n",
        "    for prev_word, word in bigram_tokens:\n",
        "        if prev_word in language_model and word in language_model[prev_word]:\n",
        "            probability = language_model[prev_word][word]\n",
        "        else:\n",
        "            probability = 1 / (len(language_model[prev_word]) + len(language_model[prev_word]) + 1)\n",
        "        log_sum += math.log2(probability)\n",
        "\n",
        "    perplexity = 2 ** (-log_sum / num_words)\n",
        "    return perplexity"
      ],
      "metadata": {
        "id": "M2BDwqQ_-qwU"
      },
      "execution_count": null,
      "outputs": []
    },
    {
      "cell_type": "code",
      "source": [
        "# Example usage\n",
        "corpus = \"I love programming. Programming is fun. Programming is creative.\"\n",
        "test_corpus = \"I enjoy programming. Programming is my passion.\"\n",
        "\n",
        "language_model = build_bigram_language_model(corpus)\n",
        "perplexity = calculate_bigram_perplexity(language_model, test_corpus)\n",
        "\n",
        "print(f\"Perplexity: {perplexity}\")"
      ],
      "metadata": {
        "colab": {
          "base_uri": "https://localhost:8080/"
        },
        "id": "cXNZruM2-veb",
        "outputId": "b83bc16a-a9ed-482c-db7f-cc1617a3e6f4"
      },
      "execution_count": null,
      "outputs": [
        {
          "output_type": "stream",
          "name": "stdout",
          "text": [
            "Perplexity: 3.462469001722811\n"
          ]
        }
      ]
    }
  ]
}